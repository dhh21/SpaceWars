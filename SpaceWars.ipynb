{
 "cells": [
  {
   "cell_type": "markdown",
   "id": "9cffa4d0-4a7b-4b29-ade6-eaf3d37d46c7",
   "metadata": {},
   "source": [
    "# SpaceWars\n",
    "\n",
    "> The location of reporting the Great War in France, Austria and Finland – investigating the places dominating news reporting during the Great War between 1914 and 1918\n",
    "\n",
    "- https://platform.newseye.eu/"
   ]
  },
  {
   "cell_type": "markdown",
   "id": "30e03ea8-7896-4daf-96e9-df601952e6ff",
   "metadata": {},
   "source": [
    "### MultiBERT"
   ]
  },
  {
   "cell_type": "code",
   "execution_count": 1,
   "id": "8e6c77db-1486-434c-9c11-44f95694d881",
   "metadata": {},
   "outputs": [
    {
     "name": "stdout",
     "output_type": "stream",
     "text": [
      "Python 3.6.9\n"
     ]
    }
   ],
   "source": [
    "!python3 --version"
   ]
  },
  {
   "cell_type": "code",
   "execution_count": 2,
   "id": "409f68cf",
   "metadata": {
    "tags": []
   },
   "outputs": [
    {
     "data": {
      "text/plain": [
       "['bert_config.json',\n",
       " 'bert_model.ckpt.data-00000-of-00001',\n",
       " 'bert_model.ckpt.index',\n",
       " 'bert_model.ckpt.meta',\n",
       " 'vocab.txt']"
      ]
     },
     "execution_count": 2,
     "metadata": {},
     "output_type": "execute_result"
    }
   ],
   "source": [
    "from os.path import join\n",
    "from os import listdir\n",
    "\n",
    "listdir(join('multi_cased_L-12_H-768_A-12'))"
   ]
  },
  {
   "cell_type": "code",
   "execution_count": 3,
   "id": "a541d569-3c04-498d-b108-20e031b6532e",
   "metadata": {},
   "outputs": [
    {
     "data": {
      "text/plain": [
       "<torch.utils.tensorboard.writer.SummaryWriter at 0x7fb4b4bfdeb8>"
      ]
     },
     "execution_count": 3,
     "metadata": {},
     "output_type": "execute_result"
    }
   ],
   "source": [
    "from torch.utils.tensorboard import SummaryWriter\n",
    "\n",
    "writer = SummaryWriter('logs')\n",
    "writer"
   ]
  },
  {
   "cell_type": "code",
   "execution_count": 4,
   "id": "b623f57a-a63d-436f-9511-589f6c4463bc",
   "metadata": {},
   "outputs": [
    {
     "data": {
      "text/plain": [
       "tensor([[  101,   146, 11850, 41163, 10107,   119,   102,     0,     0,     0],\n",
       "        [  101,   147,   112, 62691, 12028, 10152, 69338, 10107,   119,   102],\n",
       "        [  101, 21023, 20722, 76777, 10136,   119,   102,     0,     0,     0]])"
      ]
     },
     "execution_count": 4,
     "metadata": {},
     "output_type": "execute_result"
    }
   ],
   "source": [
    "from transformers import BertTokenizer, BertModel\n",
    "\n",
    "MODEL = 'bert-base-multilingual-cased'\n",
    "\n",
    "tokenizer = BertTokenizer.from_pretrained(MODEL)\n",
    "\n",
    "text = [\"I like cats.\", \"J'aime bien les chats.\", 'Ich mag Katzen.']\n",
    "encoded_input = tokenizer(text, padding=True, truncation=True, return_tensors='pt')\n",
    "\n",
    "encoded_input['input_ids']"
   ]
  },
  {
   "cell_type": "code",
   "execution_count": 5,
   "id": "114fa2ee-c788-4173-8734-c5c314ad8a9d",
   "metadata": {},
   "outputs": [
    {
     "data": {
      "text/plain": [
       "torch.Size([3, 10, 768])"
      ]
     },
     "execution_count": 5,
     "metadata": {},
     "output_type": "execute_result"
    }
   ],
   "source": [
    "import torch\n",
    "\n",
    "model = BertModel.from_pretrained(MODEL, output_hidden_states=True)\n",
    "# writer.add_graph(model)\n",
    "model.eval()\n",
    "\n",
    "with torch.no_grad():\n",
    "    output = model(**encoded_input)\n",
    "output[0].shape"
   ]
  },
  {
   "cell_type": "code",
   "execution_count": 6,
   "id": "0ff53601-abb1-47ed-9beb-0201cf039b7e",
   "metadata": {},
   "outputs": [
    {
     "data": {
      "text/plain": [
       "torch.Size([3, 10, 768])"
      ]
     },
     "execution_count": 6,
     "metadata": {},
     "output_type": "execute_result"
    }
   ],
   "source": [
    "output[2][0].shape"
   ]
  },
  {
   "cell_type": "markdown",
   "id": "9409ba1c-656e-429e-8403-dbbeae93c612",
   "metadata": {},
   "source": [
    "### Visualization"
   ]
  },
  {
   "cell_type": "code",
   "execution_count": 7,
   "id": "1bb54a44-035e-47a7-a185-301300926ed8",
   "metadata": {},
   "outputs": [],
   "source": [
    "from sklearn.decomposition import PCA"
   ]
  },
  {
   "cell_type": "code",
   "execution_count": 8,
   "id": "2fd135dd-1449-42db-8751-df448a323063",
   "metadata": {},
   "outputs": [],
   "source": [
    "pca = PCA(n_components=2)\n",
    "\n",
    "dims = output[0].shape\n",
    "\n",
    "vectors = output[0].detach().numpy().reshape(dims[0]*dims[1], 768)\n",
    "\n",
    "output_2d = pca.fit_transform(vectors)"
   ]
  },
  {
   "cell_type": "code",
   "execution_count": 9,
   "id": "fd75032c-db7e-4236-aa92-67aeb1111dd1",
   "metadata": {},
   "outputs": [
    {
     "data": {
      "text/plain": [
       "(tensor([[[-6.9672e-02, -8.1205e-02,  6.0374e-01,  ...,  2.7944e-01,\n",
       "           -5.3708e-01,  3.3668e-01],\n",
       "          [ 2.0454e-01, -7.6209e-01,  1.1907e+00,  ...,  2.4091e-01,\n",
       "           -1.1493e+00, -6.3096e-02],\n",
       "          [ 2.0950e-01, -4.6561e-01,  1.9190e-01,  ...,  5.2618e-01,\n",
       "           -8.9888e-01,  6.8182e-01],\n",
       "          ...,\n",
       "          [-3.9712e-01, -3.7900e-01,  1.0237e+00,  ...,  4.9932e-01,\n",
       "           -7.5085e-01,  2.2093e-01],\n",
       "          [-4.9182e-01, -3.9108e-01,  9.9678e-01,  ...,  2.9080e-01,\n",
       "           -5.3241e-01,  2.6502e-01],\n",
       "          [-2.5283e-01, -3.9029e-01,  8.9253e-01,  ...,  3.3775e-01,\n",
       "           -7.2904e-01,  2.5906e-01]],\n",
       " \n",
       "         [[-7.0485e-03,  1.4029e-01, -1.0887e-01,  ...,  1.0291e-01,\n",
       "           -9.4110e-02,  2.6719e-01],\n",
       "          [ 4.0768e-01, -1.7489e-02,  7.0415e-01,  ...,  1.5748e-02,\n",
       "           -8.3285e-01, -6.3766e-03],\n",
       "          [ 1.2443e-01, -1.3516e-01,  8.4327e-01,  ..., -1.4863e-01,\n",
       "           -1.3719e+00, -4.4002e-03],\n",
       "          ...,\n",
       "          [ 5.0119e-03,  9.2643e-02,  5.9198e-03,  ...,  3.0394e-02,\n",
       "           -2.9810e-01,  5.5374e-01],\n",
       "          [-5.4537e-02,  2.6654e-01, -4.0656e-02,  ..., -1.4307e-01,\n",
       "           -3.2421e-01,  3.9678e-01],\n",
       "          [-4.5875e-02,  1.6160e-01,  1.7973e-01,  ...,  9.3028e-02,\n",
       "           -1.8731e-01,  2.8387e-01]],\n",
       " \n",
       "         [[ 9.6618e-02, -4.3881e-01,  2.9531e-02,  ...,  4.8084e-01,\n",
       "            2.7739e-01,  2.0238e-01],\n",
       "          [-3.7337e-01, -7.4874e-01,  8.5418e-01,  ...,  5.0338e-01,\n",
       "            3.0785e-01, -1.6911e-01],\n",
       "          [-1.1937e-01, -5.3849e-01, -1.3719e-01,  ...,  2.7078e-01,\n",
       "            3.1016e-01,  5.1210e-01],\n",
       "          ...,\n",
       "          [ 2.0412e-01, -4.8583e-01,  4.9409e-02,  ...,  1.5959e-01,\n",
       "            1.2839e-01,  3.7980e-01],\n",
       "          [ 1.1854e-01, -5.3414e-01,  3.3088e-02,  ..., -4.6085e-02,\n",
       "            2.7848e-01,  2.5427e-01],\n",
       "          [-1.0042e-01, -7.8155e-01,  8.0183e-04,  ...,  1.4554e-01,\n",
       "            4.2142e-01,  2.9021e-01]]]),\n",
       " array([[-6.9671512e-02, -8.1205145e-02,  6.0374117e-01, ...,\n",
       "          2.7944362e-01, -5.3707790e-01,  3.3668301e-01],\n",
       "        [ 2.0453660e-01, -7.6209378e-01,  1.1906550e+00, ...,\n",
       "          2.4091209e-01, -1.1492884e+00, -6.3095681e-02],\n",
       "        [ 2.0949937e-01, -4.6561074e-01,  1.9190392e-01, ...,\n",
       "          5.2618343e-01, -8.9888346e-01,  6.8182385e-01],\n",
       "        ...,\n",
       "        [ 2.0412077e-01, -4.8582864e-01,  4.9409434e-02, ...,\n",
       "          1.5959390e-01,  1.2839414e-01,  3.7979674e-01],\n",
       "        [ 1.1854072e-01, -5.3413522e-01,  3.3088371e-02, ...,\n",
       "         -4.6085108e-02,  2.7847832e-01,  2.5427142e-01],\n",
       "        [-1.0041982e-01, -7.8154778e-01,  8.0183148e-04, ...,\n",
       "          1.4553864e-01,  4.2141515e-01,  2.9021436e-01]], dtype=float32))"
      ]
     },
     "execution_count": 9,
     "metadata": {},
     "output_type": "execute_result"
    }
   ],
   "source": [
    "output[0], vectors"
   ]
  },
  {
   "cell_type": "code",
   "execution_count": 10,
   "id": "fea62235-79ea-4b02-b42f-8308749b4e0c",
   "metadata": {},
   "outputs": [
    {
     "data": {
      "text/plain": [
       "\"[CLS] I like cat ##s . [SEP] [PAD] [PAD] [PAD] [CLS] J ' aime bien les chat ##s . [SEP] [CLS] Ich mag Katz ##en . [SEP] [PAD] [PAD] [PAD]\""
      ]
     },
     "execution_count": 10,
     "metadata": {},
     "output_type": "execute_result"
    }
   ],
   "source": [
    "tokens = ' '.join([' '.join(tokenizer.tokenize(tokenizer.batch_decode(encoded_input['input_ids'])[i])) for i in range(len(text))]).split()\n",
    "' '.join(tokens)"
   ]
  },
  {
   "cell_type": "code",
   "execution_count": 11,
   "id": "2a269d35-285f-45bf-bc82-a57723fef5e7",
   "metadata": {},
   "outputs": [
    {
     "name": "stdout",
     "output_type": "stream",
     "text": [
      "warning: Embedding dir exists, did you set global_step for add_embedding()?\n"
     ]
    }
   ],
   "source": [
    "import tensorflow as tf\n",
    "import tensorboard as tb\n",
    "tf.io.gfile = tb.compat.tensorflow_stub.io.gfile\n",
    "\n",
    "writer.add_embedding(vectors, metadata=tokens)\n",
    "writer.close()"
   ]
  },
  {
   "cell_type": "code",
   "execution_count": 12,
   "id": "1ae79597-6519-4f63-92de-16f3deb991fd",
   "metadata": {},
   "outputs": [
    {
     "data": {
      "text/plain": [
       "(30, 2)"
      ]
     },
     "execution_count": 12,
     "metadata": {},
     "output_type": "execute_result"
    }
   ],
   "source": [
    "import pandas as pd\n",
    "\n",
    "output_2d = pd.DataFrame(output_2d, columns=['x', 'y'])\n",
    "output_2d.shape"
   ]
  },
  {
   "cell_type": "code",
   "execution_count": 13,
   "id": "f8293baf-9735-48c6-a887-d5cba6f422b4",
   "metadata": {},
   "outputs": [
    {
     "data": {
      "image/png": "[encoded data removed]",
      "text/plain": [
       "<Figure size 1152x432 with 1 Axes>"
      ]
     },
     "metadata": {
      "needs_background": "light"
     },
     "output_type": "display_data"
    }
   ],
   "source": [
    "import seaborn as sns\n",
    "import matplotlib.pyplot as plt\n",
    "\n",
    "%matplotlib inline\n",
    "plt.figure(figsize=(16, 6))\n",
    "\n",
    "sns.set(style='whitegrid')\n",
    " \n",
    "scatter = sns.scatterplot(data=output_2d, x='x', y='y', s=100)\n",
    "\n",
    "for i in range(output_2d.shape[0]): scatter.annotate(tokens[i], (output_2d.x[i], output_2d.y[i]))"
   ]
  },
  {
   "cell_type": "code",
   "execution_count": 14,
   "id": "d76d373a-2747-4e30-91c0-4b3c4be4e46e",
   "metadata": {},
   "outputs": [
    {
     "data": {
      "text/html": [
       "\n",
       "      <iframe id=\"tensorboard-frame-ead12dcf201e6907\" width=\"100%\" height=\"800\" frameborder=\"0\">\n",
       "      </iframe>\n",
       "      <script>\n",
       "        (function() {\n",
       "          const frame = document.getElementById(\"tensorboard-frame-ead12dcf201e6907\");\n",
       "          const url = new URL(\"/\", window.location);\n",
       "          url.port = 6006;\n",
       "          frame.src = url;\n",
       "        })();\n",
       "      </script>\n",
       "  "
      ],
      "text/plain": [
       "<IPython.core.display.HTML object>"
      ]
     },
     "metadata": {},
     "output_type": "display_data"
    }
   ],
   "source": [
    "%load_ext tensorboard\n",
    "%tensorboard --logdir /home/vagrant/project/logs/ --host 0.0.0.0 --port 6006"
   ]
  },
  {
   "cell_type": "code",
   "execution_count": 19,
   "id": "e27bf8a9-64f2-435e-bec3-2633036b00d3",
   "metadata": {},
   "outputs": [
    {
     "name": "stdout",
     "output_type": "stream",
     "text": [
      "vagrant   2570  2544  1 22:12 ?        00:00:04 /usr/bin/python3 /usr/local/bin/tensorboard --logdir /home/vagrant/project/logs/ --host 0.0.0.0 --port 6006\n",
      "vagrant   2597  2544  0 22:15 pts/2    00:00:00 /bin/bash -c ps -fA | grep tensorboard\n",
      "vagrant   2599  2597  0 22:15 pts/2    00:00:00 grep tensorboard\n"
     ]
    }
   ],
   "source": [
    "!ps -fA | grep tensorboard"
   ]
  },
  {
   "cell_type": "code",
   "execution_count": 20,
   "id": "5aea2955-46f7-4379-97cf-3fef1a4be15c",
   "metadata": {},
   "outputs": [],
   "source": [
    "!kill 2570"
   ]
  },
  {
   "cell_type": "markdown",
   "id": "c7721554-8003-414b-9780-fc499aade58f",
   "metadata": {},
   "source": [
    "### Sources\n",
    "- https://stackoverflow.com/questions/61250311/error-importing-bert-module-tensorflow-api-v2-train-has-no-attribute-optimi#\n",
    "- https://medium.com/@armandj.olivares/using-bert-for-classifying-documents-with-long-texts-5c3e7b04573d\n",
    "- https://huggingface.co/bert-base-multilingual-cased\n",
    "- https://github.com/google-research/bert/blob/master/multilingual.md\n",
    "- https://huggingface.co/transformers/main_classes/output.html\n",
    "- https://medium.com/analytics-vidhya/text-classification-with-bert-using-transformers-for-long-text-inputs-f54833994dfd\n",
    "- https://towardsdatascience.com/transformers-141e32e69591\n",
    "- https://pytorch.org/tutorials/intermediate/tensorboard_tutorial.html#adding-a-projector-to-tensorboard\n",
    "\n",
    "### References\n",
    "- https://arxiv.org/abs/1810.04805\n",
    "- https://www.aclweb.org/anthology/2020.tacl-1.54.pdf"
   ]
  }
 ],
 "metadata": {
  "kernelspec": {
   "display_name": "Python 3",
   "language": "python",
   "name": "python3"
  },
  "language_info": {
   "codemirror_mode": {
    "name": "ipython",
    "version": 3
   },
   "file_extension": ".py",
   "mimetype": "text/x-python",
   "name": "python",
   "nbconvert_exporter": "python",
   "pygments_lexer": "ipython3",
   "version": "3.6.9"
  },
  "latex_envs": {
   "LaTeX_envs_menu_present": true,
   "autoclose": false,
   "autocomplete": true,
   "bibliofile": "biblio.bib",
   "cite_by": "apalike",
   "current_citInitial": 1,
   "eqLabelWithNumbers": true,
   "eqNumInitial": 1,
   "hotkeys": {
    "equation": "Ctrl-E",
    "itemize": "Ctrl-I"
   },
   "labels_anchors": false,
   "latex_user_defs": false,
   "report_style_numbering": false,
   "user_envs_cfg": false
  }
 },
 "nbformat": 4,
 "nbformat_minor": 5
}
