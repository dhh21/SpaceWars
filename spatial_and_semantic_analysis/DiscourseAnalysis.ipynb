{
 "cells": [
  {
   "cell_type": "code",
   "execution_count": 2,
   "id": "cdbcf7d5-b596-4a42-aab2-7e59a0f2bfb8",
   "metadata": {},
   "outputs": [
    {
     "name": "stdout",
     "output_type": "stream",
     "text": [
      "Python 3.6.9\n"
     ]
    }
   ],
   "source": [
    "!python3 --version"
   ]
  },
  {
   "cell_type": "markdown",
   "id": "8e0e82a3-8648-44f1-be3f-ddd1d85ed9fa",
   "metadata": {},
   "source": [
    "### Collocation analysis"
   ]
  },
  {
   "cell_type": "code",
   "execution_count": 90,
   "id": "68051d02-4c98-4104-8f38-3f09a3da0b38",
   "metadata": {},
   "outputs": [],
   "source": [
    "def get_words(paper):\n",
    "    words = []\n",
    "    with open(f'subcorpora/1917/{paper}_westernfront.tok') as paper:\n",
    "        for line in paper:\n",
    "            words.extend(line.split())\n",
    "\n",
    "    return words\n",
    "\n",
    "words = get_words('arbeiter_zeitung')"
   ]
  },
  {
   "cell_type": "code",
   "execution_count": 91,
   "id": "188522fc-1aa9-4467-addc-b78eb11799a8",
   "metadata": {},
   "outputs": [],
   "source": [
    "from nltk.collocations import BigramCollocationFinder, BigramAssocMeasures\n",
    "\n",
    "biam = BigramAssocMeasures()\n",
    "finder = BigramCollocationFinder.from_words(words, window_size=5)"
   ]
  },
  {
   "cell_type": "code",
   "execution_count": 92,
   "id": "741d126b-de62-47eb-ac33-2991625ba587",
   "metadata": {},
   "outputs": [
    {
     "data": {
      "text/plain": [
       "[('Büro', 'meldet'),\n",
       " ('Das', 'Büro'),\n",
       " ('Heeresgruppe', 'Kronprinz'),\n",
       " ('Das', 'meldet'),\n",
       " ('meldet', ':'),\n",
       " ('Büro', ':'),\n",
       " ('Wolffsche', 'Büro'),\n",
       " ('Wolffsche', 'meldet'),\n",
       " ('Das', 'Wolffsche'),\n",
       " ('.', 'Das'),\n",
       " ('Großes', 'Hauptquartier'),\n",
       " ('Westlicher', 'Kriegsschauplatz'),\n",
       " ('Das', ':'),\n",
       " ('Gegend', 'von'),\n",
       " ('Kronprinz', 'Ruprecht'),\n",
       " ('Heeresgruppe', 'Ruprecht'),\n",
       " ('in', 'Gegend'),\n",
       " ('(', ')'),\n",
       " ('der', 'Gegend'),\n",
       " ('.', 'Die'),\n",
       " ('.', 'Wolffsche'),\n",
       " ('„', '“'),\n",
       " ('zwischen', 'und'),\n",
       " ('.', 'Der'),\n",
       " ('Berlin', ','),\n",
       " ('Wolffsche', ':'),\n",
       " ('Kriegsschauplatz', 'Ruprecht'),\n",
       " ('des', 'Generalstabes'),\n",
       " ('.', 'Berlin'),\n",
       " ('Saint', '='),\n",
       " ('Westlicher', 'Heeresgruppe'),\n",
       " (',', 'daß'),\n",
       " ('in', 'der'),\n",
       " ('.', 'In'),\n",
       " ('östlich', 'von'),\n",
       " ('Westlicher', 'Kronprinz'),\n",
       " ('Kriegsschauplatz', 'Heeresgruppe'),\n",
       " ('Englischer', 'London'),\n",
       " ('Englischer', 'Bericht'),\n",
       " ('.', 'Heeresgruppe'),\n",
       " ('nördlich', 'von'),\n",
       " ('11', 'nachts'),\n",
       " ('Kriegsschauplatz', 'Kronprinz'),\n",
       " ('11', 'Uhr'),\n",
       " ('Generalquartiermeister', 'Ludendorff'),\n",
       " ('Erste', 'Generalquartiermeister'),\n",
       " ('der', 'Straße'),\n",
       " ('Erste', 'Ludendorff'),\n",
       " ('Abendbericht', 'Berlin'),\n",
       " ('La', 'Bassée')]"
      ]
     },
     "execution_count": 92,
     "metadata": {},
     "output_type": "execute_result"
    }
   ],
   "source": [
    "finder.nbest(biam.likelihood_ratio, 50)"
   ]
  },
  {
   "cell_type": "code",
   "execution_count": 99,
   "id": "e60a04dd-cd26-412e-bb72-0633328fb9c5",
   "metadata": {},
   "outputs": [],
   "source": [
    "words = get_words('neue_freie_presse')\n",
    "finder = BigramCollocationFinder.from_words(words, window_size=5)"
   ]
  },
  {
   "cell_type": "code",
   "execution_count": 100,
   "id": "70755a1b-b8e9-4167-8650-b389a45f57e2",
   "metadata": {},
   "outputs": [
    {
     "data": {
      "text/plain": [
       "[('0', '0'),\n",
       " ('—', '—'),\n",
       " ('St.', 'Quentin'),\n",
       " ('Bureau', 'meldet'),\n",
       " ('Das', 'meldet'),\n",
       " ('Wolffsche', 'meldet'),\n",
       " ('Wolffsche', 'Bureau'),\n",
       " ('Das', 'Bureau'),\n",
       " ('Das', 'Wolffsche'),\n",
       " ('Heeresgruppe', 'Kronprinz'),\n",
       " ('meldet', ':'),\n",
       " ('(', ')'),\n",
       " ('0', '—'),\n",
       " ('Bureau', ':'),\n",
       " ('.', 'Die'),\n",
       " ('„', '“'),\n",
       " ('.', 'Das'),\n",
       " ('Wolffsche', ':'),\n",
       " ('—', '0'),\n",
       " ('zwischen', 'und'),\n",
       " ('Gegend', 'von'),\n",
       " ('Das', ':'),\n",
       " ('in', 'Gegend'),\n",
       " ('Großes', 'Hauptquartier'),\n",
       " ('Westlicher', 'Kriegsschauplatz'),\n",
       " ('der', 'Gegend'),\n",
       " ('Uhr', 'nachmittags'),\n",
       " (',', 'daß'),\n",
       " ('Kronprinz', 'Rupprecht'),\n",
       " ('1917', 'Westlicher'),\n",
       " ('deutscher', 'Kronprinz'),\n",
       " ('des', 'Generalstabes'),\n",
       " ('„', 'Großes'),\n",
       " ('.', 'Der'),\n",
       " ('Heeresgruppe', 'deutscher'),\n",
       " ('.', 'Wolffsche'),\n",
       " ('Heeresgruppe', 'Rupprecht'),\n",
       " ('Kriegsschauplatz', 'Rupprecht'),\n",
       " ('K.', 'K.'),\n",
       " ('1917', 'Kriegsschauplatz'),\n",
       " ('Bericht', 'Generalstabes'),\n",
       " ('in', 'der'),\n",
       " ('.', 'In'),\n",
       " ('Westlicher', 'Kronprinz'),\n",
       " (':', '„'),\n",
       " ('„', 'Hauptquartier'),\n",
       " ('Wien', ','),\n",
       " ('Westlicher', 'Heeresgruppe'),\n",
       " ('östlich', 'von'),\n",
       " ('Französischer', 'Generalstabsbericht')]"
      ]
     },
     "execution_count": 100,
     "metadata": {},
     "output_type": "execute_result"
    }
   ],
   "source": [
    "finder.nbest(biam.likelihood_ratio, 50)"
   ]
  },
  {
   "cell_type": "markdown",
   "id": "45b238ae-b279-4cf7-9c4e-de215ce0d153",
   "metadata": {},
   "source": [
    "### Multilingual Sequence Language Models"
   ]
  },
  {
   "cell_type": "code",
   "execution_count": null,
   "id": "f974876b-9ea3-4007-b327-64118fea02d0",
   "metadata": {},
   "outputs": [],
   "source": [
    "!pip3 install sentence-transformers"
   ]
  },
  {
   "cell_type": "code",
   "execution_count": 27,
   "id": "f7ff05dd-1f41-4199-a082-c0be41df355e",
   "metadata": {},
   "outputs": [],
   "source": [
    "from os import listdir\n",
    "\n",
    "seqs = []\n",
    "\n",
    "for paper in listdir('subcorpora/1917'):\n",
    "    if paper.endswith('_westernfront'):\n",
    "        with open(f'subcorpora/1917/{paper}') as corpus:\n",
    "            for line in corpus:\n",
    "                seqs.append(line)"
   ]
  },
  {
   "cell_type": "code",
   "execution_count": 30,
   "id": "fbe576f7-fee5-4c4a-af89-faf7b888c4a9",
   "metadata": {},
   "outputs": [
    {
     "data": {
      "application/vnd.jupyter.widget-view+json": {
       "model_id": "5e66365d8ef64825a341fb24d6df75f6",
       "version_major": 2,
       "version_minor": 0
      },
      "text/plain": [
       "  0%|          | 0.00/504M [00:00<?, ?B/s]"
      ]
     },
     "metadata": {},
     "output_type": "display_data"
    }
   ],
   "source": [
    "from sentence_transformers import SentenceTransformer\n",
    "\n",
    "model = SentenceTransformer('distiluse-base-multilingual-cased-v2')"
   ]
  },
  {
   "cell_type": "code",
   "execution_count": null,
   "id": "34888912-6e76-48fb-9e0e-1b077ec89756",
   "metadata": {},
   "outputs": [],
   "source": [
    "sentence_embeddings = model.encode(seqs, show_progress_bar=True)"
   ]
  },
  {
   "cell_type": "code",
   "execution_count": null,
   "id": "dc8e46e9-d28a-40ce-af09-fee06776fcf1",
   "metadata": {},
   "outputs": [],
   "source": [
    "from torch.utils.tensorboard import SummaryWriter\n",
    "import tensorflow as tf\n",
    "import tensorboard as tb\n",
    "tf.io.gfile = tb.compat.tensorflow_stub.io.gfile\n",
    "\n",
    "writer = SummaryWriter('westernfront')\n",
    "writer.add_embedding(sentence_embeddings, metadata=seqs)\n",
    "writer.close()"
   ]
  },
  {
   "cell_type": "code",
   "execution_count": 1,
   "id": "d3d3c62e-6f09-4204-adb3-fa344fce6405",
   "metadata": {},
   "outputs": [
    {
     "data": {
      "text/html": [
       "\n",
       "      <iframe id=\"tensorboard-frame-4fa00fd7257c60ab\" width=\"100%\" height=\"800\" frameborder=\"0\">\n",
       "      </iframe>\n",
       "      <script>\n",
       "        (function() {\n",
       "          const frame = document.getElementById(\"tensorboard-frame-4fa00fd7257c60ab\");\n",
       "          const url = new URL(\"/\", window.location);\n",
       "          url.port = 6006;\n",
       "          frame.src = url;\n",
       "        })();\n",
       "      </script>\n",
       "  "
      ],
      "text/plain": [
       "<IPython.core.display.HTML object>"
      ]
     },
     "metadata": {},
     "output_type": "display_data"
    }
   ],
   "source": [
    "%load_ext tensorboard\n",
    "%tensorboard --logdir /home/vagrant/project/westernfront/ --host 0.0.0.0 --port 6006"
   ]
  },
  {
   "cell_type": "code",
   "execution_count": 19,
   "id": "6d6cf124-e500-454c-b507-437880d9a07f",
   "metadata": {},
   "outputs": [
    {
     "name": "stdout",
     "output_type": "stream",
     "text": [
      "vagrant   3733  3465  6 10:44 ?        00:00:02 /usr/bin/python3 /usr/local/bin/tensorboard --logdir /home/vagrant/project/westernfront/ --host 0.0.0.0 --port 6006\n",
      "vagrant   3758  3465  0 10:45 pts/1    00:00:00 /bin/bash -c ps -fA | grep tensorboard\n",
      "vagrant   3760  3758  0 10:45 pts/1    00:00:00 grep tensorboard\n"
     ]
    }
   ],
   "source": [
    "!ps -fA | grep tensorboard"
   ]
  },
  {
   "cell_type": "code",
   "execution_count": 20,
   "id": "0c47419a-02b9-4f5a-908d-8ed521e7cf0f",
   "metadata": {},
   "outputs": [],
   "source": [
    "!kill 3733"
   ]
  }
 ],
 "metadata": {
  "kernelspec": {
   "display_name": "Python 3",
   "language": "python",
   "name": "python3"
  },
  "language_info": {
   "codemirror_mode": {
    "name": "ipython",
    "version": 3
   },
   "file_extension": ".py",
   "mimetype": "text/x-python",
   "name": "python",
   "nbconvert_exporter": "python",
   "pygments_lexer": "ipython3",
   "version": "3.6.9"
  }
 },
 "nbformat": 4,
 "nbformat_minor": 5
}
