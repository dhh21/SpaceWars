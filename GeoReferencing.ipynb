{
 "cells": [
  {
   "cell_type": "code",
   "execution_count": null,
   "id": "e2da93c9-70d9-4e35-8374-aa7d9a132ae9",
   "metadata": {},
   "outputs": [],
   "source": [
    "!pip install geopandas\n",
    "!pip install geopy\n",
    "!pip install geocoder\n",
    "!pip install pygeos\n",
    "\n",
    "!pip install hdbscan\n",
    "!pip install contextily\n",
    "!pip install fuzzywuzzy"
   ]
  },
  {
   "cell_type": "code",
   "execution_count": 1,
   "id": "a8a952f5-e1f4-4112-ab8a-e37b6086c067",
   "metadata": {},
   "outputs": [
    {
     "data": {
      "text/plain": [
       "{'algolia': geopy.geocoders.algolia.AlgoliaPlaces,\n",
       " 'arcgis': geopy.geocoders.arcgis.ArcGIS,\n",
       " 'azure': geopy.geocoders.azure.AzureMaps,\n",
       " 'baidu': geopy.geocoders.baidu.Baidu,\n",
       " 'baiduv3': geopy.geocoders.baidu.BaiduV3,\n",
       " 'banfrance': geopy.geocoders.banfrance.BANFrance,\n",
       " 'bing': geopy.geocoders.bing.Bing,\n",
       " 'databc': geopy.geocoders.databc.DataBC,\n",
       " 'geocodeearth': geopy.geocoders.geocodeearth.GeocodeEarth,\n",
       " 'geocodefarm': geopy.geocoders.geocodefarm.GeocodeFarm,\n",
       " 'geonames': geopy.geocoders.geonames.GeoNames,\n",
       " 'google': geopy.geocoders.googlev3.GoogleV3,\n",
       " 'googlev3': geopy.geocoders.googlev3.GoogleV3,\n",
       " 'geolake': geopy.geocoders.geolake.Geolake,\n",
       " 'here': geopy.geocoders.here.Here,\n",
       " 'ignfrance': geopy.geocoders.ignfrance.IGNFrance,\n",
       " 'mapbox': geopy.geocoders.mapbox.MapBox,\n",
       " 'mapquest': geopy.geocoders.mapquest.MapQuest,\n",
       " 'maptiler': geopy.geocoders.maptiler.MapTiler,\n",
       " 'nominatim': geopy.geocoders.nominatim.Nominatim,\n",
       " 'opencage': geopy.geocoders.opencage.OpenCage,\n",
       " 'openmapquest': geopy.geocoders.openmapquest.OpenMapQuest,\n",
       " 'pickpoint': geopy.geocoders.pickpoint.PickPoint,\n",
       " 'pelias': geopy.geocoders.pelias.Pelias,\n",
       " 'photon': geopy.geocoders.photon.Photon,\n",
       " 'liveaddress': geopy.geocoders.smartystreets.LiveAddress,\n",
       " 'tomtom': geopy.geocoders.tomtom.TomTom,\n",
       " 'what3words': geopy.geocoders.what3words.What3Words,\n",
       " 'yandex': geopy.geocoders.yandex.Yandex}"
      ]
     },
     "execution_count": 1,
     "metadata": {},
     "output_type": "execute_result"
    }
   ],
   "source": [
    "import geopy\n",
    "geopy.geocoders.SERVICE_TO_GEOCODER"
   ]
  },
  {
   "cell_type": "code",
   "execution_count": 12,
   "id": "f1796542-d89f-4ffc-99dd-a23ce2026fa0",
   "metadata": {},
   "outputs": [
    {
     "name": "stdout",
     "output_type": "stream",
     "text": [
      "1913.zip\t\t\t  innsbrucker_nachrichten.json\n",
      "abo_underrattelser.json\t\t  le_matin.json\n",
      "arbeiter_zeitung.json\t\t  neue_freie_presse.json\n",
      "helsingin_sanomat.json\t\t  uusi_aura.json\n",
      "hufvudstadsbladet.json\t\t  uusi_suometar.json\n",
      "illustrierte_kronen_zeitung.json  vastra_finland.json\n"
     ]
    }
   ],
   "source": [
    "!ls entities/1913"
   ]
  },
  {
   "cell_type": "code",
   "execution_count": 13,
   "id": "f9aa66ee-7a3a-4729-8057-9a77229d37a4",
   "metadata": {},
   "outputs": [
    {
     "data": {
      "text/html": [
       "<div>\n",
       "<style scoped>\n",
       "    .dataframe tbody tr th:only-of-type {\n",
       "        vertical-align: middle;\n",
       "    }\n",
       "\n",
       "    .dataframe tbody tr th {\n",
       "        vertical-align: top;\n",
       "    }\n",
       "\n",
       "    .dataframe thead th {\n",
       "        text-align: right;\n",
       "    }\n",
       "</style>\n",
       "<table border=\"1\" class=\"dataframe\">\n",
       "  <thead>\n",
       "    <tr style=\"text-align: right;\">\n",
       "      <th></th>\n",
       "      <th>mention</th>\n",
       "      <th>geometry</th>\n",
       "      <th>address</th>\n",
       "    </tr>\n",
       "  </thead>\n",
       "  <tbody>\n",
       "  </tbody>\n",
       "</table>\n",
       "</div>"
      ],
      "text/plain": [
       "Empty GeoDataFrame\n",
       "Columns: [mention, geometry, address]\n",
       "Index: []"
      ]
     },
     "execution_count": 13,
     "metadata": {},
     "output_type": "execute_result"
    }
   ],
   "source": [
    "import geopandas as gpd\n",
    "\n",
    "geometry = gpd.GeoDataFrame(columns=['mention', 'geometry', 'address'])\n",
    "\n",
    "geometry"
   ]
  },
  {
   "cell_type": "code",
   "execution_count": 33,
   "id": "f0385c88-7b94-4205-96b3-2fccc0531c1b",
   "metadata": {},
   "outputs": [
    {
     "data": {
      "text/plain": [
       "Wien                             4989\n",
       "Deutschland                      3113\n",
       "London                           2848\n",
       "Berlin                           2075\n",
       "Oesterreich                      2011\n",
       "                                 ... \n",
       "Olai                                1\n",
       "Ostlibyen                           1\n",
       "Apollogasse 1 , im Hofe links       1\n",
       "Hohenzollern = Schanzwerk           1\n",
       "Argesulfluß                         1\n",
       "Name: mention, Length: 33160, dtype: int64"
      ]
     },
     "execution_count": 33,
     "metadata": {},
     "output_type": "execute_result"
    }
   ],
   "source": [
    "unique_locs = locs.mention.value_counts()\n",
    "\n",
    "unique_locs"
   ]
  },
  {
   "cell_type": "code",
   "execution_count": 34,
   "id": "3458415d-eee7-4b16-8e8c-a04636aed89f",
   "metadata": {},
   "outputs": [
    {
     "data": {
      "text/plain": [
       "Wien                   4989\n",
       "Deutschland            3113\n",
       "London                 2848\n",
       "Berlin                 2075\n",
       "Oesterreich            2011\n",
       "                       ... \n",
       "Hauptstrasse 78           2\n",
       "Grooningen                2\n",
       "Fadoriten                 2\n",
       "I . Zelinkagasse 14       2\n",
       "Komp                      2\n",
       "Name: mention, Length: 7294, dtype: int64"
      ]
     },
     "execution_count": 34,
     "metadata": {},
     "output_type": "execute_result"
    }
   ],
   "source": [
    "unique_locs[unique_locs > 1]"
   ]
  },
  {
   "cell_type": "code",
   "execution_count": 35,
   "id": "c719816f-61d8-493c-8d0c-2d68a18c6ea6",
   "metadata": {},
   "outputs": [
    {
     "data": {
      "text/plain": [
       "<AxesSubplot:>"
      ]
     },
     "execution_count": 35,
     "metadata": {},
     "output_type": "execute_result"
    },
    {
     "data": {
      "image/png": "[encoded data removed]",
      "text/plain": [
       "<Figure size 432x288 with 1 Axes>"
      ]
     },
     "metadata": {
      "needs_background": "light"
     },
     "output_type": "display_data"
    }
   ],
   "source": [
    "unique_locs.plot()"
   ]
  },
  {
   "cell_type": "code",
   "execution_count": 34,
   "id": "4fa823d6-fd10-4605-ab9d-bc3239f0e23b",
   "metadata": {},
   "outputs": [
    {
     "name": "stdout",
     "output_type": "stream",
     "text": [
      "arbeiter_zeitung.json\t\t  le_matin.json\t\t  new_york_herald.json\n",
      "illustrierte_kronen_zeitung.json  l_oeuvre.json\n",
      "innsbrucker_nachrichten.json\t  neue_freie_presse.json\n"
     ]
    }
   ],
   "source": [
    "!ls entities/1920"
   ]
  },
  {
   "cell_type": "code",
   "execution_count": null,
   "id": "075145b7-8816-459b-a81a-a5755fb6c842",
   "metadata": {},
   "outputs": [
    {
     "name": "stdout",
     "output_type": "stream",
     "text": [
      "reading entities/1913/illustrierte_kronen_zeitung.json\n",
      "10037\n",
      "1000/10037 (0.100) - 608.503\n",
      "HTTPSConnectionPool(host='nominatim.openstreetmap.org', port=443): Max retries exceeded with url: /search?q=Landstra%C3%9Fe+Hauptstra%C3%9Fe&format=json&limit=1 (Caused by ReadTimeoutError(\"HTTPSConnectionPool(host='nominatim.openstreetmap.org', port=443): Read timed out. (read timeout=4)\",))\n",
      "2000/10037 (0.199) - 573.286\n",
      "HTTPSConnectionPool(host='nominatim.openstreetmap.org', port=443): Max retries exceeded with url: /search?q=Landstra%C3%9Fe+Hauptstrasse+88&format=json&limit=1 (Caused by ReadTimeoutError(\"HTTPSConnectionPool(host='nominatim.openstreetmap.org', port=443): Read timed out. (read timeout=4)\",))\n",
      "3000/10037 (0.299) - 559.215\n",
      "HTTPSConnectionPool(host='nominatim.openstreetmap.org', port=443): Max retries exceeded with url: /search?q=Bezirk+%2C+Hauptstra%C3%9Fe+27&format=json&limit=1 (Caused by ReadTimeoutError(\"HTTPSConnectionPool(host='nominatim.openstreetmap.org', port=443): Read timed out. (read timeout=4)\",))\n",
      "4000/10037 (0.399) - 560.410\n",
      "5000/10037 (0.498) - 573.938\n",
      "HTTPSConnectionPool(host='nominatim.openstreetmap.org', port=443): Max retries exceeded with url: /search?q=Landstra%C3%9Fe+Hauptstra%C3%9Fe+%2C&format=json&limit=1 (Caused by ReadTimeoutError(\"HTTPSConnectionPool(host='nominatim.openstreetmap.org', port=443): Read timed out. (read timeout=4)\",))\n",
      "6000/10037 (0.598) - 571.859\n",
      "HTTPSConnectionPool(host='nominatim.openstreetmap.org', port=443): Max retries exceeded with url: /search?q=Bezirk+%2C+Hauptstra%C3%9Fe+30&format=json&limit=1 (Caused by ReadTimeoutError(\"HTTPSConnectionPool(host='nominatim.openstreetmap.org', port=443): Read timed out. (read timeout=4)\",))\n",
      "7000/10037 (0.697) - 551.052\n",
      "8000/10037 (0.797) - 524.303\n",
      "9000/10037 (0.897) - 538.224\n",
      "HTTPSConnectionPool(host='nominatim.openstreetmap.org', port=443): Max retries exceeded with url: /search?q=Bez+.+%2C+Lederergasse+18&format=json&limit=1 (Caused by NewConnectionError('<urllib3.connection.HTTPSConnection object at 0x7f9a0aa44320>: Failed to establish a new connection: [Errno 101] Network is unreachable',))\n",
      "HTTPSConnectionPool(host='nominatim.openstreetmap.org', port=443): Max retries exceeded with url: /search?q=Hotel+%E2%80%9E+zu+den+drei+Raben&format=json&limit=1 (Caused by NewConnectionError('<urllib3.connection.HTTPSConnection object at 0x7f9a0a9e2048>: Failed to establish a new connection: [Errno 101] Network is unreachable',))\n",
      "HTTPSConnectionPool(host='nominatim.openstreetmap.org', port=443): Max retries exceeded with url: /search?q=Kalvarienberggasse+10&format=json&limit=1 (Caused by NewConnectionError('<urllib3.connection.HTTPSConnection object at 0x7f9a0a92fdd8>: Failed to establish a new connection: [Errno 101] Network is unreachable',))\n",
      "HTTPSConnectionPool(host='nominatim.openstreetmap.org', port=443): Max retries exceeded with url: /search?q=Bez+.+%2C+J%C3%B6rgerstra%C3%9Fe+22&format=json&limit=1 (Caused by NewConnectionError('<urllib3.connection.HTTPSConnection object at 0x7f9a0a92cac8>: Failed to establish a new connection: [Errno 101] Network is unreachable',))\n",
      "HTTPSConnectionPool(host='nominatim.openstreetmap.org', port=443): Max retries exceeded with url: /search?q=Grinzinger+Friedhofe&format=json&limit=1 (Caused by NewConnectionError('<urllib3.connection.HTTPSConnection object at 0x7f9a0a96a7f0>: Failed to establish a new connection: [Errno 101] Network is unreachable',))\n",
      "HTTPSConnectionPool(host='nominatim.openstreetmap.org', port=443): Max retries exceeded with url: /search?q=Landstra%C3%9Fe+Hauptstra%C3%9Fe+116&format=json&limit=1 (Caused by ReadTimeoutError(\"HTTPSConnectionPool(host='nominatim.openstreetmap.org', port=443): Read timed out. (read timeout=4)\",))\n",
      "10000/10037 (0.996) - 674.388\n",
      "Saving 1913/illustrierte_kronen_zeitung.geojson\n",
      "reading entities/1914/illustrierte_kronen_zeitung.json\n",
      "10048\n",
      "1000/10048 (0.100) - 523.625\n",
      "2000/10048 (0.199) - 532.950\n",
      "HTTPSConnectionPool(host='nominatim.openstreetmap.org', port=443): Max retries exceeded with url: /search?q=Landstra%C3%9Fe+Hauptstra%C3%9Fe&format=json&limit=1 (Caused by ReadTimeoutError(\"HTTPSConnectionPool(host='nominatim.openstreetmap.org', port=443): Read timed out. (read timeout=4)\",))\n",
      "HTTPSConnectionPool(host='nominatim.openstreetmap.org', port=443): Max retries exceeded with url: /search?q=Bezirk+%2C+Hauptstra%C3%9Fe+97&format=json&limit=1 (Caused by ReadTimeoutError(\"HTTPSConnectionPool(host='nominatim.openstreetmap.org', port=443): Read timed out. (read timeout=4)\",))\n",
      "3000/10048 (0.299) - 576.837\n",
      "4000/10048 (0.398) - 538.922\n",
      "5000/10048 (0.498) - 557.427\n",
      "6000/10048 (0.597) - 535.923\n",
      "7000/10048 (0.697) - 536.803\n",
      "HTTPSConnectionPool(host='nominatim.openstreetmap.org', port=443): Max retries exceeded with url: /search?q=Bezirk+%2C+Favoritenstra%C3%9Fe+89&format=json&limit=1 (Caused by NewConnectionError('<urllib3.connection.HTTPSConnection object at 0x7f9a0adf3208>: Failed to establish a new connection: [Errno 101] Network is unreachable',))\n",
      "HTTPSConnectionPool(host='nominatim.openstreetmap.org', port=443): Max retries exceeded with url: /search?q=Landstra%C3%9Fe+%3D+Hauptstra%C3%9Fe&format=json&limit=1 (Caused by ReadTimeoutError(\"HTTPSConnectionPool(host='nominatim.openstreetmap.org', port=443): Read timed out. (read timeout=4)\",))\n",
      "8000/10048 (0.796) - 589.056\n",
      "HTTPSConnectionPool(host='nominatim.openstreetmap.org', port=443): Max retries exceeded with url: /search?q=Bezirk+%2C+Hauptstra%C3%9Fe+10&format=json&limit=1 (Caused by ReadTimeoutError(\"HTTPSConnectionPool(host='nominatim.openstreetmap.org', port=443): Read timed out. (read timeout=4)\",))\n",
      "9000/10048 (0.896) - 587.384\n",
      "10000/10048 (0.995) - 547.429\n",
      "Saving 1914/illustrierte_kronen_zeitung.geojson\n",
      "reading entities/1915/illustrierte_kronen_zeitung.json\n",
      "10381\n",
      "1000/10381 (0.096) - 538.957\n",
      "HTTPSConnectionPool(host='nominatim.openstreetmap.org', port=443): Max retries exceeded with url: /search?q=Landstra%C3%9Fe+Hauptstra%C3%9Fe&format=json&limit=1 (Caused by ReadTimeoutError(\"HTTPSConnectionPool(host='nominatim.openstreetmap.org', port=443): Read timed out. (read timeout=4)\",))\n",
      "2000/10381 (0.193) - 557.924\n",
      "HTTPSConnectionPool(host='nominatim.openstreetmap.org', port=443): Max retries exceeded with url: /search?q=Bezirk+%2C+Hauptstra%C3%9Fe+24&format=json&limit=1 (Caused by ReadTimeoutError(\"HTTPSConnectionPool(host='nominatim.openstreetmap.org', port=443): Read timed out. (read timeout=4)\",))\n",
      "3000/10381 (0.289) - 556.616\n",
      "4000/10381 (0.385) - 542.054\n",
      "HTTPSConnectionPool(host='nominatim.openstreetmap.org', port=443): Max retries exceeded with url: /search?q=Landstra%C3%9Fe+%3D+Hauptstra%C3%9Fe&format=json&limit=1 (Caused by ReadTimeoutError(\"HTTPSConnectionPool(host='nominatim.openstreetmap.org', port=443): Read timed out. (read timeout=4)\",))\n",
      "5000/10381 (0.482) - 554.831\n",
      "6000/10381 (0.578) - 524.134\n",
      "7000/10381 (0.674) - 524.470\n",
      "8000/10381 (0.771) - 531.778\n",
      "HTTPSConnectionPool(host='nominatim.openstreetmap.org', port=443): Max retries exceeded with url: /search?q=Bezirk+%2C+Hauptstra%C3%9Fe+173&format=json&limit=1 (Caused by ReadTimeoutError(\"HTTPSConnectionPool(host='nominatim.openstreetmap.org', port=443): Read timed out. (read timeout=4)\",))\n",
      "HTTPSConnectionPool(host='nominatim.openstreetmap.org', port=443): Max retries exceeded with url: /search?q=Landstra%C3%9Fe+%2C+Hauptstra%C3%9Fe&format=json&limit=1 (Caused by ReadTimeoutError(\"HTTPSConnectionPool(host='nominatim.openstreetmap.org', port=443): Read timed out. (read timeout=4)\",))\n",
      "9000/10381 (0.867) - 549.208\n",
      "HTTPSConnectionPool(host='nominatim.openstreetmap.org', port=443): Max retries exceeded with url: /search?q=Bezirk+%2C+Hauptstra%C3%9Fe+1&format=json&limit=1 (Caused by ReadTimeoutError(\"HTTPSConnectionPool(host='nominatim.openstreetmap.org', port=443): Read timed out. (read timeout=4)\",))\n",
      "10000/10381 (0.963) - 532.567\n",
      "Saving 1915/illustrierte_kronen_zeitung.geojson\n",
      "reading entities/1916/illustrierte_kronen_zeitung.json\n",
      "11574\n",
      "1000/11574 (0.086) - 520.369\n",
      "2000/11574 (0.173) - 521.395\n",
      "HTTPSConnectionPool(host='nominatim.openstreetmap.org', port=443): Max retries exceeded with url: /search?q=Bezirk+%2C+Hauptstra%C3%9Fe+497&format=json&limit=1 (Caused by ReadTimeoutError(\"HTTPSConnectionPool(host='nominatim.openstreetmap.org', port=443): Read timed out. (read timeout=4)\",))\n",
      "3000/11574 (0.259) - 532.823\n",
      "4000/11574 (0.346) - 514.323\n",
      "5000/11574 (0.432) - 513.632\n",
      "6000/11574 (0.518) - 521.116\n",
      "HTTPSConnectionPool(host='nominatim.openstreetmap.org', port=443): Max retries exceeded with url: /search?q=Landstra%C3%9Fe+Hauptstra%C3%9Fe+97&format=json&limit=1 (Caused by ReadTimeoutError(\"HTTPSConnectionPool(host='nominatim.openstreetmap.org', port=443): Read timed out. (read timeout=4)\",))\n",
      "7000/11574 (0.605) - 533.002\n",
      "8000/11574 (0.691) - 514.497\n",
      "9000/11574 (0.778) - 522.883\n"
     ]
    }
   ],
   "source": [
    "from geopandas.tools import geocode\n",
    "import geopandas as gpd\n",
    "import pandas as pd\n",
    "import time\n",
    "\n",
    "from os.path import isfile\n",
    "\n",
    "paper = 'illustrierte_kronen_zeitung'\n",
    "\n",
    "for year in ['1913', '1914', '1915', '1916', '1917', '1918', '1919', '1920']:\n",
    "    geometry = gpd.GeoDataFrame(columns=['mention', 'geometry', 'address'])\n",
    "    outpath = f'locations/{year}/{paper}.geojson'\n",
    "    if isfile(outpath):\n",
    "        print('Loading geometry', outpath)\n",
    "        geometry = gpd.read_file(outpath)\n",
    "            \n",
    "    print('reading', f'entities/{year}/{paper}.json')\n",
    "    locs = gpd.GeoDataFrame(pd.read_json(f'entities/{year}/{paper}.json'))\n",
    "    unique_locs = locs.mention.value_counts()\n",
    "    print(unique_locs[unique_locs > 1].shape[0])\n",
    "\n",
    "    start = time.time()\n",
    "\n",
    "    for i, item in enumerate(unique_locs[unique_locs > 1].iteritems()):\n",
    "        if (i+1) % 1000 == 0:\n",
    "            print(f\"{i+1}/{unique_locs[unique_locs > 1].shape[0]} ({((i+1) / unique_locs[unique_locs > 1].shape[0]):.3f}) - {(time.time() - start):.3f}\")\n",
    "            start = time.time()\n",
    "\n",
    "        place_name, freq = item\n",
    "\n",
    "        if place_name in geometry.mention.tolist(): continue\n",
    "\n",
    "        try:\n",
    "            out = geocode(place_name, provider='nominatim', user_agent='autogis_xx', timeout=4)\n",
    "            out['mention'] = place_name\n",
    "            out['freq'] = freq\n",
    "        except Exception as error:\n",
    "            print(error)\n",
    "            geometry.to_file(f'locations/{year}/{paper}.geojson', driver='GeoJSON') # shape per default\n",
    "            time.sleep(5)\n",
    "\n",
    "        geometry = geometry.append(out)\n",
    "\n",
    "    print(f'Saving {year}/{paper}.geojson')\n",
    "    geometry.to_file(f'locations/{year}/{paper}.geojson', driver='GeoJSON') # shape per default"
   ]
  },
  {
   "cell_type": "code",
   "execution_count": 7,
   "id": "f1b98532-c339-465d-9081-640a99279b49",
   "metadata": {},
   "outputs": [],
   "source": [
    "import geopandas as gpd\n",
    "# gpd.options.use_pygeos = False\n",
    "\n",
    "shape_1914 = gpd.read_file('shapefiles/cntry1914.shp')\n",
    "shape_1914.set_index('NAME', inplace=True)"
   ]
  },
  {
   "cell_type": "code",
   "execution_count": 3,
   "id": "1a53223c-ed32-42c1-a4b3-7af39db304da",
   "metadata": {},
   "outputs": [
    {
     "data": {
      "text/html": [
       "<div>\n",
       "<style scoped>\n",
       "    .dataframe tbody tr th:only-of-type {\n",
       "        vertical-align: middle;\n",
       "    }\n",
       "\n",
       "    .dataframe tbody tr th {\n",
       "        vertical-align: top;\n",
       "    }\n",
       "\n",
       "    .dataframe thead th {\n",
       "        text-align: right;\n",
       "    }\n",
       "</style>\n",
       "<table border=\"1\" class=\"dataframe\">\n",
       "  <thead>\n",
       "    <tr style=\"text-align: right;\">\n",
       "      <th></th>\n",
       "      <th>mention</th>\n",
       "      <th>address</th>\n",
       "      <th>freq</th>\n",
       "      <th>geometry</th>\n",
       "    </tr>\n",
       "  </thead>\n",
       "  <tbody>\n",
       "    <tr>\n",
       "      <th>0</th>\n",
       "      <td>Wien</td>\n",
       "      <td>Wien, Österreich</td>\n",
       "      <td>5240.0</td>\n",
       "      <td>POINT (16.37250 48.20835)</td>\n",
       "    </tr>\n",
       "    <tr>\n",
       "      <th>1</th>\n",
       "      <td>Deutschland</td>\n",
       "      <td>Deutschland</td>\n",
       "      <td>2440.0</td>\n",
       "      <td>POINT (10.42345 51.08342)</td>\n",
       "    </tr>\n",
       "    <tr>\n",
       "      <th>2</th>\n",
       "      <td>Rußland</td>\n",
       "      <td>Россия</td>\n",
       "      <td>2388.0</td>\n",
       "      <td>POINT (97.74531 64.68631)</td>\n",
       "    </tr>\n",
       "    <tr>\n",
       "      <th>3</th>\n",
       "      <td>Berlin</td>\n",
       "      <td>Berlin, 10117, Deutschland</td>\n",
       "      <td>2323.0</td>\n",
       "      <td>POINT (13.38886 52.51704)</td>\n",
       "    </tr>\n",
       "    <tr>\n",
       "      <th>4</th>\n",
       "      <td>Oesterreich</td>\n",
       "      <td>Österreich</td>\n",
       "      <td>2201.0</td>\n",
       "      <td>POINT (13.20000 47.20000)</td>\n",
       "    </tr>\n",
       "    <tr>\n",
       "      <th>...</th>\n",
       "      <td>...</td>\n",
       "      <td>...</td>\n",
       "      <td>...</td>\n",
       "      <td>...</td>\n",
       "    </tr>\n",
       "    <tr>\n",
       "      <th>6270</th>\n",
       "      <td>Slobodzia</td>\n",
       "      <td>Слобода, Новоселицька міська громада, Чернівец...</td>\n",
       "      <td>2.0</td>\n",
       "      <td>POINT (26.19518 48.27804)</td>\n",
       "    </tr>\n",
       "    <tr>\n",
       "      <th>6271</th>\n",
       "      <td>beschossen</td>\n",
       "      <td>None</td>\n",
       "      <td>2.0</td>\n",
       "      <td>None</td>\n",
       "    </tr>\n",
       "    <tr>\n",
       "      <th>6272</th>\n",
       "      <td>Kriegsanleihen</td>\n",
       "      <td>None</td>\n",
       "      <td>2.0</td>\n",
       "      <td>None</td>\n",
       "    </tr>\n",
       "    <tr>\n",
       "      <th>6273</th>\n",
       "      <td>Liochten - steinstrasse</td>\n",
       "      <td>None</td>\n",
       "      <td>2.0</td>\n",
       "      <td>None</td>\n",
       "    </tr>\n",
       "    <tr>\n",
       "      <th>6274</th>\n",
       "      <td>Elsaß und Lothringen</td>\n",
       "      <td>Lothringen, Herbitzheim, Saverne, Bas-Rhin, Gr...</td>\n",
       "      <td>2.0</td>\n",
       "      <td>POINT (7.06051 48.99641)</td>\n",
       "    </tr>\n",
       "  </tbody>\n",
       "</table>\n",
       "<p>6275 rows × 4 columns</p>\n",
       "</div>"
      ],
      "text/plain": [
       "                      mention  \\\n",
       "0                        Wien   \n",
       "1                 Deutschland   \n",
       "2                     Rußland   \n",
       "3                      Berlin   \n",
       "4                 Oesterreich   \n",
       "...                       ...   \n",
       "6270                Slobodzia   \n",
       "6271               beschossen   \n",
       "6272           Kriegsanleihen   \n",
       "6273  Liochten - steinstrasse   \n",
       "6274     Elsaß und Lothringen   \n",
       "\n",
       "                                                address    freq  \\\n",
       "0                                      Wien, Österreich  5240.0   \n",
       "1                                           Deutschland  2440.0   \n",
       "2                                                Россия  2388.0   \n",
       "3                            Berlin, 10117, Deutschland  2323.0   \n",
       "4                                            Österreich  2201.0   \n",
       "...                                                 ...     ...   \n",
       "6270  Слобода, Новоселицька міська громада, Чернівец...     2.0   \n",
       "6271                                               None     2.0   \n",
       "6272                                               None     2.0   \n",
       "6273                                               None     2.0   \n",
       "6274  Lothringen, Herbitzheim, Saverne, Bas-Rhin, Gr...     2.0   \n",
       "\n",
       "                       geometry  \n",
       "0     POINT (16.37250 48.20835)  \n",
       "1     POINT (10.42345 51.08342)  \n",
       "2     POINT (97.74531 64.68631)  \n",
       "3     POINT (13.38886 52.51704)  \n",
       "4     POINT (13.20000 47.20000)  \n",
       "...                         ...  \n",
       "6270  POINT (26.19518 48.27804)  \n",
       "6271                       None  \n",
       "6272                       None  \n",
       "6273                       None  \n",
       "6274   POINT (7.06051 48.99641)  \n",
       "\n",
       "[6275 rows x 4 columns]"
      ]
     },
     "execution_count": 3,
     "metadata": {},
     "output_type": "execute_result"
    }
   ],
   "source": [
    "import geopandas as gpd\n",
    "\n",
    "geometry"
   ]
  },
  {
   "cell_type": "code",
   "execution_count": 6,
   "id": "f6611e5c-87b5-42d6-8a56-b4bc57120f48",
   "metadata": {},
   "outputs": [
    {
     "data": {
      "text/plain": [
       "Index(['Luxembourg', 'Switzerland', 'Cyprus', 'Bhutan', 'Qatar',\n",
       "       'United Arab Emirates', 'Cuba', 'United States', 'Haiti',\n",
       "       'Dominican Republic',\n",
       "       ...\n",
       "       'Rhodesia', 'Japan', 'France', 'German Empire', 'Arabia (Nejd)',\n",
       "       'Arabia (Nejd)', 'Arabia (Nejd)', 'Mongolia', 'Russia', 'Sakhalan'],\n",
       "      dtype='object', name='NAME', length=125)"
      ]
     },
     "execution_count": 6,
     "metadata": {},
     "output_type": "execute_result"
    }
   ],
   "source": [
    "shape_1914.index"
   ]
  },
  {
   "cell_type": "markdown",
   "id": "11421d8b-4936-4cd5-a2a6-16698e41b728",
   "metadata": {},
   "source": [
    "### What did the Geocoder miss?"
   ]
  },
  {
   "cell_type": "code",
   "execution_count": 28,
   "id": "e71ef84a-50ae-4f00-b2cb-424e59cee8fd",
   "metadata": {},
   "outputs": [],
   "source": [
    "geometry[geometry.address.isna()].to_csv(f'{paper}{year}_failed.csv')"
   ]
  },
  {
   "cell_type": "code",
   "execution_count": 11,
   "id": "16203c65-0b71-41af-9e3e-94eb8b996309",
   "metadata": {},
   "outputs": [
    {
     "data": {
      "text/html": [
       "<div>\n",
       "<style scoped>\n",
       "    .dataframe tbody tr th:only-of-type {\n",
       "        vertical-align: middle;\n",
       "    }\n",
       "\n",
       "    .dataframe tbody tr th {\n",
       "        vertical-align: top;\n",
       "    }\n",
       "\n",
       "    .dataframe thead th {\n",
       "        text-align: right;\n",
       "    }\n",
       "</style>\n",
       "<table border=\"1\" class=\"dataframe\">\n",
       "  <thead>\n",
       "    <tr style=\"text-align: right;\">\n",
       "      <th></th>\n",
       "      <th>mention</th>\n",
       "      <th>geometry</th>\n",
       "      <th>address</th>\n",
       "      <th>freq</th>\n",
       "    </tr>\n",
       "  </thead>\n",
       "  <tbody>\n",
       "    <tr>\n",
       "      <th>0</th>\n",
       "      <td>Spielplan</td>\n",
       "      <td>GEOMETRYCOLLECTION EMPTY</td>\n",
       "      <td>None</td>\n",
       "      <td>2097.0</td>\n",
       "    </tr>\n",
       "    <tr>\n",
       "      <th>0</th>\n",
       "      <td>Klubcafé</td>\n",
       "      <td>GEOMETRYCOLLECTION EMPTY</td>\n",
       "      <td>None</td>\n",
       "      <td>405.0</td>\n",
       "    </tr>\n",
       "    <tr>\n",
       "      <th>0</th>\n",
       "      <td>Salonich</td>\n",
       "      <td>GEOMETRYCOLLECTION EMPTY</td>\n",
       "      <td>None</td>\n",
       "      <td>343.0</td>\n",
       "    </tr>\n",
       "    <tr>\n",
       "      <th>0</th>\n",
       "      <td>Deutsches Volkstheater</td>\n",
       "      <td>GEOMETRYCOLLECTION EMPTY</td>\n",
       "      <td>None</td>\n",
       "      <td>317.0</td>\n",
       "    </tr>\n",
       "    <tr>\n",
       "      <th>0</th>\n",
       "      <td>X . Laxenburgerstraße 8</td>\n",
       "      <td>GEOMETRYCOLLECTION EMPTY</td>\n",
       "      <td>None</td>\n",
       "      <td>315.0</td>\n",
       "    </tr>\n",
       "    <tr>\n",
       "      <th>...</th>\n",
       "      <td>...</td>\n",
       "      <td>...</td>\n",
       "      <td>...</td>\n",
       "      <td>...</td>\n",
       "    </tr>\n",
       "    <tr>\n",
       "      <th>0</th>\n",
       "      <td>Halbgasse Nr</td>\n",
       "      <td>GEOMETRYCOLLECTION EMPTY</td>\n",
       "      <td>None</td>\n",
       "      <td>2.0</td>\n",
       "    </tr>\n",
       "    <tr>\n",
       "      <th>0</th>\n",
       "      <td>WienLt . Bf .</td>\n",
       "      <td>GEOMETRYCOLLECTION EMPTY</td>\n",
       "      <td>None</td>\n",
       "      <td>2.0</td>\n",
       "    </tr>\n",
       "    <tr>\n",
       "      <th>0</th>\n",
       "      <td>X . Weihburggasse 9 ,</td>\n",
       "      <td>GEOMETRYCOLLECTION EMPTY</td>\n",
       "      <td>None</td>\n",
       "      <td>2.0</td>\n",
       "    </tr>\n",
       "    <tr>\n",
       "      <th>0</th>\n",
       "      <td>Itzkany</td>\n",
       "      <td>GEOMETRYCOLLECTION EMPTY</td>\n",
       "      <td>None</td>\n",
       "      <td>2.0</td>\n",
       "    </tr>\n",
       "    <tr>\n",
       "      <th>0</th>\n",
       "      <td>Polizeikommissariat Floridsdorf</td>\n",
       "      <td>GEOMETRYCOLLECTION EMPTY</td>\n",
       "      <td>None</td>\n",
       "      <td>2.0</td>\n",
       "    </tr>\n",
       "  </tbody>\n",
       "</table>\n",
       "<p>3433 rows × 4 columns</p>\n",
       "</div>"
      ],
      "text/plain": [
       "                            mention                  geometry address    freq\n",
       "0                         Spielplan  GEOMETRYCOLLECTION EMPTY    None  2097.0\n",
       "0                          Klubcafé  GEOMETRYCOLLECTION EMPTY    None   405.0\n",
       "0                          Salonich  GEOMETRYCOLLECTION EMPTY    None   343.0\n",
       "0            Deutsches Volkstheater  GEOMETRYCOLLECTION EMPTY    None   317.0\n",
       "0           X . Laxenburgerstraße 8  GEOMETRYCOLLECTION EMPTY    None   315.0\n",
       "..                              ...                       ...     ...     ...\n",
       "0                      Halbgasse Nr  GEOMETRYCOLLECTION EMPTY    None     2.0\n",
       "0                     WienLt . Bf .  GEOMETRYCOLLECTION EMPTY    None     2.0\n",
       "0             X . Weihburggasse 9 ,  GEOMETRYCOLLECTION EMPTY    None     2.0\n",
       "0                           Itzkany  GEOMETRYCOLLECTION EMPTY    None     2.0\n",
       "0   Polizeikommissariat Floridsdorf  GEOMETRYCOLLECTION EMPTY    None     2.0\n",
       "\n",
       "[3433 rows x 4 columns]"
      ]
     },
     "execution_count": 11,
     "metadata": {},
     "output_type": "execute_result"
    }
   ],
   "source": [
    "geometry[geometry.address.isna()]"
   ]
  },
  {
   "cell_type": "code",
   "execution_count": 31,
   "id": "97348f74-d4e0-4e83-af94-8f55c3254cae",
   "metadata": {},
   "outputs": [
    {
     "name": "stderr",
     "output_type": "stream",
     "text": [
      "/usr/local/lib/python3.6/dist-packages/ipykernel_launcher.py:6: UserWarning: GeoSeries.isna() previously returned True for both missing (None) and empty geometries. Now, it only returns True for missing values. Since the calling GeoSeries contains empty geometries, the result has changed compared to previous versions of GeoPandas.\n",
      "Given a GeoSeries 's', you can use 's.is_empty | s.isna()' to get back the old behaviour.\n",
      "\n",
      "To further ignore this warning, you can do: \n",
      "import warnings; warnings.filterwarnings('ignore', 'GeoSeries.isna', UserWarning)\n",
      "  \n"
     ]
    }
   ],
   "source": [
    "from fuzzywuzzy import fuzz, process\n",
    "from scipy.spatial.distance import pdist\n",
    "\n",
    "query = 'WienLt . Bf .'\n",
    "\n",
    "for mention in locs[geometry.geometry.isna()].mention.unique():\n",
    "    ratio = fuzz.ratio(query, mention)\n",
    "    if ratio > 60: print(mention, '-', ratio)"
   ]
  }
 ],
 "metadata": {
  "kernelspec": {
   "display_name": "Python 3",
   "language": "python",
   "name": "python3"
  },
  "language_info": {
   "codemirror_mode": {
    "name": "ipython",
    "version": 3
   },
   "file_extension": ".py",
   "mimetype": "text/x-python",
   "name": "python",
   "nbconvert_exporter": "python",
   "pygments_lexer": "ipython3",
   "version": "3.6.9"
  }
 },
 "nbformat": 4,
 "nbformat_minor": 5
}
